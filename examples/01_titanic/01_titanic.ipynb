{
 "cells": [
  {
   "cell_type": "markdown",
   "metadata": {},
   "source": [
    "# Titanic Dataset"
   ]
  },
  {
   "cell_type": "markdown",
   "metadata": {},
   "source": [
    "## Setup"
   ]
  },
  {
   "cell_type": "markdown",
   "metadata": {},
   "source": [
    "### Include all libraries"
   ]
  },
  {
   "cell_type": "code",
   "execution_count": 282,
   "metadata": {},
   "outputs": [
    {
     "data": {
      "text/plain": [
       "('1.23.4', '1.5.0', '1.1.3', '0.12.0')"
      ]
     },
     "execution_count": 282,
     "metadata": {},
     "output_type": "execute_result"
    }
   ],
   "source": [
    "import os\n",
    "import matplotlib.pyplot as plt\n",
    "import numpy as np\n",
    "import pandas as pd\n",
    "import sklearn\n",
    "import seaborn as sns\n",
    "%matplotlib inline\n",
    "\n",
    "np.__version__, pd.__version__, sklearn.__version__, sns.__version__"
   ]
  },
  {
   "cell_type": "code",
   "execution_count": 283,
   "metadata": {},
   "outputs": [
    {
     "name": "stdout",
     "output_type": "stream",
     "text": [
      "The version_information extension is already loaded. To reload it, use:\n",
      "  %reload_ext version_information\n"
     ]
    },
    {
     "data": {
      "application/json": {
       "Software versions": [
        {
         "module": "Python",
         "version": "3.10.8 64bit [GCC 10.2.1 20210110]"
        },
        {
         "module": "IPython",
         "version": "8.6.0"
        },
        {
         "module": "OS",
         "version": "Linux 5.10.104 linuxkit aarch64 with glibc2.31"
        }
       ]
      },
      "text/html": [
       "<table><tr><th>Software</th><th>Version</th></tr><tr><td>Python</td><td>3.10.8 64bit [GCC 10.2.1 20210110]</td></tr><tr><td>IPython</td><td>8.6.0</td></tr><tr><td>OS</td><td>Linux 5.10.104 linuxkit aarch64 with glibc2.31</td></tr><tr><td colspan='2'>Thu Nov 24 14:37:14 2022 UTC</td></tr></table>"
      ],
      "text/latex": [
       "\\begin{tabular}{|l|l|}\\hline\n",
       "{\\bf Software} & {\\bf Version} \\\\ \\hline\\hline\n",
       "Python & 3.10.8 64bit [GCC 10.2.1 20210110] \\\\ \\hline\n",
       "IPython & 8.6.0 \\\\ \\hline\n",
       "OS & Linux 5.10.104 linuxkit aarch64 with glibc2.31 \\\\ \\hline\n",
       "\\hline \\multicolumn{2}{|l|}{Thu Nov 24 14:37:14 2022 UTC} \\\\ \\hline\n",
       "\\end{tabular}\n"
      ],
      "text/plain": [
       "Software versions\n",
       "Python 3.10.8 64bit [GCC 10.2.1 20210110]\n",
       "IPython 8.6.0\n",
       "OS Linux 5.10.104 linuxkit aarch64 with glibc2.31\n",
       "Thu Nov 24 14:37:14 2022 UTC"
      ]
     },
     "execution_count": 283,
     "metadata": {},
     "output_type": "execute_result"
    }
   ],
   "source": [
    "%load_ext version_information\n",
    "%version_information"
   ]
  },
  {
   "cell_type": "markdown",
   "metadata": {},
   "source": [
    "### Download dataset"
   ]
  },
  {
   "cell_type": "markdown",
   "metadata": {},
   "source": [
    "Please manually download the dataset `train.csv` from [here](https://www.kaggle.com/competitions/titanic/data) into the folder `data`."
   ]
  },
  {
   "cell_type": "code",
   "execution_count": 284,
   "metadata": {},
   "outputs": [],
   "source": [
    "raw_train_csv_path = 'data/train.csv'\n",
    "\n",
    "while not os.path.isfile(raw_train_csv_path):\n",
    "    print('Please sign in to Kaggle and download the dataset `train.csv` into the folder `data`.')\n",
    "    input('Press Enter to continue...')"
   ]
  },
  {
   "cell_type": "code",
   "execution_count": 285,
   "metadata": {},
   "outputs": [],
   "source": [
    "raw_df = pd.read_csv('data/train.csv')"
   ]
  },
  {
   "cell_type": "markdown",
   "metadata": {},
   "source": [
    "## Data preparation"
   ]
  },
  {
   "cell_type": "markdown",
   "metadata": {},
   "source": [
    "Ausgabe der ersten 5 Datensätze und des shapes des Datensatzes:"
   ]
  },
  {
   "cell_type": "code",
   "execution_count": 286,
   "metadata": {},
   "outputs": [
    {
     "data": {
      "text/html": [
       "<div>\n",
       "<style scoped>\n",
       "    .dataframe tbody tr th:only-of-type {\n",
       "        vertical-align: middle;\n",
       "    }\n",
       "\n",
       "    .dataframe tbody tr th {\n",
       "        vertical-align: top;\n",
       "    }\n",
       "\n",
       "    .dataframe thead th {\n",
       "        text-align: right;\n",
       "    }\n",
       "</style>\n",
       "<table border=\"1\" class=\"dataframe\">\n",
       "  <thead>\n",
       "    <tr style=\"text-align: right;\">\n",
       "      <th></th>\n",
       "      <th>PassengerId</th>\n",
       "      <th>Survived</th>\n",
       "      <th>Pclass</th>\n",
       "      <th>Name</th>\n",
       "      <th>Sex</th>\n",
       "      <th>Age</th>\n",
       "      <th>SibSp</th>\n",
       "      <th>Parch</th>\n",
       "      <th>Ticket</th>\n",
       "      <th>Fare</th>\n",
       "      <th>Cabin</th>\n",
       "      <th>Embarked</th>\n",
       "    </tr>\n",
       "  </thead>\n",
       "  <tbody>\n",
       "    <tr>\n",
       "      <th>0</th>\n",
       "      <td>1</td>\n",
       "      <td>0</td>\n",
       "      <td>3</td>\n",
       "      <td>Braund, Mr. Owen Harris</td>\n",
       "      <td>male</td>\n",
       "      <td>22.0</td>\n",
       "      <td>1</td>\n",
       "      <td>0</td>\n",
       "      <td>A/5 21171</td>\n",
       "      <td>7.2500</td>\n",
       "      <td>NaN</td>\n",
       "      <td>S</td>\n",
       "    </tr>\n",
       "    <tr>\n",
       "      <th>1</th>\n",
       "      <td>2</td>\n",
       "      <td>1</td>\n",
       "      <td>1</td>\n",
       "      <td>Cumings, Mrs. John Bradley (Florence Briggs Th...</td>\n",
       "      <td>female</td>\n",
       "      <td>38.0</td>\n",
       "      <td>1</td>\n",
       "      <td>0</td>\n",
       "      <td>PC 17599</td>\n",
       "      <td>71.2833</td>\n",
       "      <td>C85</td>\n",
       "      <td>C</td>\n",
       "    </tr>\n",
       "    <tr>\n",
       "      <th>2</th>\n",
       "      <td>3</td>\n",
       "      <td>1</td>\n",
       "      <td>3</td>\n",
       "      <td>Heikkinen, Miss. Laina</td>\n",
       "      <td>female</td>\n",
       "      <td>26.0</td>\n",
       "      <td>0</td>\n",
       "      <td>0</td>\n",
       "      <td>STON/O2. 3101282</td>\n",
       "      <td>7.9250</td>\n",
       "      <td>NaN</td>\n",
       "      <td>S</td>\n",
       "    </tr>\n",
       "    <tr>\n",
       "      <th>3</th>\n",
       "      <td>4</td>\n",
       "      <td>1</td>\n",
       "      <td>1</td>\n",
       "      <td>Futrelle, Mrs. Jacques Heath (Lily May Peel)</td>\n",
       "      <td>female</td>\n",
       "      <td>35.0</td>\n",
       "      <td>1</td>\n",
       "      <td>0</td>\n",
       "      <td>113803</td>\n",
       "      <td>53.1000</td>\n",
       "      <td>C123</td>\n",
       "      <td>S</td>\n",
       "    </tr>\n",
       "    <tr>\n",
       "      <th>4</th>\n",
       "      <td>5</td>\n",
       "      <td>0</td>\n",
       "      <td>3</td>\n",
       "      <td>Allen, Mr. William Henry</td>\n",
       "      <td>male</td>\n",
       "      <td>35.0</td>\n",
       "      <td>0</td>\n",
       "      <td>0</td>\n",
       "      <td>373450</td>\n",
       "      <td>8.0500</td>\n",
       "      <td>NaN</td>\n",
       "      <td>S</td>\n",
       "    </tr>\n",
       "  </tbody>\n",
       "</table>\n",
       "</div>"
      ],
      "text/plain": [
       "   PassengerId  Survived  Pclass  \\\n",
       "0            1         0       3   \n",
       "1            2         1       1   \n",
       "2            3         1       3   \n",
       "3            4         1       1   \n",
       "4            5         0       3   \n",
       "\n",
       "                                                Name     Sex   Age  SibSp  \\\n",
       "0                            Braund, Mr. Owen Harris    male  22.0      1   \n",
       "1  Cumings, Mrs. John Bradley (Florence Briggs Th...  female  38.0      1   \n",
       "2                             Heikkinen, Miss. Laina  female  26.0      0   \n",
       "3       Futrelle, Mrs. Jacques Heath (Lily May Peel)  female  35.0      1   \n",
       "4                           Allen, Mr. William Henry    male  35.0      0   \n",
       "\n",
       "   Parch            Ticket     Fare Cabin Embarked  \n",
       "0      0         A/5 21171   7.2500   NaN        S  \n",
       "1      0          PC 17599  71.2833   C85        C  \n",
       "2      0  STON/O2. 3101282   7.9250   NaN        S  \n",
       "3      0            113803  53.1000  C123        S  \n",
       "4      0            373450   8.0500   NaN        S  "
      ]
     },
     "execution_count": 286,
     "metadata": {},
     "output_type": "execute_result"
    }
   ],
   "source": [
    "raw_df.head()"
   ]
  },
  {
   "cell_type": "code",
   "execution_count": 287,
   "metadata": {},
   "outputs": [
    {
     "data": {
      "text/plain": [
       "(891, 12)"
      ]
     },
     "execution_count": 287,
     "metadata": {},
     "output_type": "execute_result"
    }
   ],
   "source": [
    "raw_df.shape"
   ]
  },
  {
   "cell_type": "markdown",
   "metadata": {},
   "source": [
    "Ausgabe aller Spaltennamen und datentypen:"
   ]
  },
  {
   "cell_type": "code",
   "execution_count": 288,
   "metadata": {},
   "outputs": [
    {
     "data": {
      "text/plain": [
       "Index(['PassengerId', 'Survived', 'Pclass', 'Name', 'Sex', 'Age', 'SibSp',\n",
       "       'Parch', 'Ticket', 'Fare', 'Cabin', 'Embarked'],\n",
       "      dtype='object')"
      ]
     },
     "execution_count": 288,
     "metadata": {},
     "output_type": "execute_result"
    }
   ],
   "source": [
    "raw_df.columns"
   ]
  },
  {
   "cell_type": "code",
   "execution_count": 289,
   "metadata": {},
   "outputs": [
    {
     "data": {
      "text/plain": [
       "PassengerId      int64\n",
       "Survived         int64\n",
       "Pclass           int64\n",
       "Name            object\n",
       "Sex             object\n",
       "Age            float64\n",
       "SibSp            int64\n",
       "Parch            int64\n",
       "Ticket          object\n",
       "Fare           float64\n",
       "Cabin           object\n",
       "Embarked        object\n",
       "dtype: object"
      ]
     },
     "execution_count": 289,
     "metadata": {},
     "output_type": "execute_result"
    }
   ],
   "source": [
    "raw_df.dtypes"
   ]
  },
  {
   "cell_type": "code",
   "execution_count": 290,
   "metadata": {},
   "outputs": [
    {
     "name": "stdout",
     "output_type": "stream",
     "text": [
      "Age: 177 null values\n",
      "Cabin: 687 null values\n",
      "Embarked: 2 null values\n"
     ]
    }
   ],
   "source": [
    "for column in raw_df:\n",
    "    if (raw_df[column].isnull().sum()):\n",
    "        print(f'{column}: {raw_df[column].isnull().sum()} null values')"
   ]
  },
  {
   "cell_type": "markdown",
   "metadata": {},
   "source": [
    "Aufbereitung des Datensatzes:"
   ]
  },
  {
   "cell_type": "code",
   "execution_count": 299,
   "metadata": {},
   "outputs": [
    {
     "data": {
      "text/html": [
       "<div>\n",
       "<style scoped>\n",
       "    .dataframe tbody tr th:only-of-type {\n",
       "        vertical-align: middle;\n",
       "    }\n",
       "\n",
       "    .dataframe tbody tr th {\n",
       "        vertical-align: top;\n",
       "    }\n",
       "\n",
       "    .dataframe thead th {\n",
       "        text-align: right;\n",
       "    }\n",
       "</style>\n",
       "<table border=\"1\" class=\"dataframe\">\n",
       "  <thead>\n",
       "    <tr style=\"text-align: right;\">\n",
       "      <th></th>\n",
       "      <th>ID</th>\n",
       "      <th>TicketClass</th>\n",
       "      <th>Sex</th>\n",
       "      <th>Age</th>\n",
       "      <th>NumOfSiblingsAndSpouses</th>\n",
       "      <th>NumOfParentsAndChildren</th>\n",
       "      <th>Fare</th>\n",
       "      <th>PortOfEmbarkation</th>\n",
       "      <th>Survived</th>\n",
       "    </tr>\n",
       "  </thead>\n",
       "  <tbody>\n",
       "    <tr>\n",
       "      <th>0</th>\n",
       "      <td>1</td>\n",
       "      <td>3</td>\n",
       "      <td>0</td>\n",
       "      <td>22.0</td>\n",
       "      <td>1</td>\n",
       "      <td>0</td>\n",
       "      <td>7.2500</td>\n",
       "      <td>0</td>\n",
       "      <td>0</td>\n",
       "    </tr>\n",
       "    <tr>\n",
       "      <th>1</th>\n",
       "      <td>2</td>\n",
       "      <td>1</td>\n",
       "      <td>1</td>\n",
       "      <td>38.0</td>\n",
       "      <td>1</td>\n",
       "      <td>0</td>\n",
       "      <td>71.2833</td>\n",
       "      <td>1</td>\n",
       "      <td>1</td>\n",
       "    </tr>\n",
       "    <tr>\n",
       "      <th>2</th>\n",
       "      <td>3</td>\n",
       "      <td>3</td>\n",
       "      <td>1</td>\n",
       "      <td>26.0</td>\n",
       "      <td>0</td>\n",
       "      <td>0</td>\n",
       "      <td>7.9250</td>\n",
       "      <td>0</td>\n",
       "      <td>1</td>\n",
       "    </tr>\n",
       "    <tr>\n",
       "      <th>3</th>\n",
       "      <td>4</td>\n",
       "      <td>1</td>\n",
       "      <td>1</td>\n",
       "      <td>35.0</td>\n",
       "      <td>1</td>\n",
       "      <td>0</td>\n",
       "      <td>53.1000</td>\n",
       "      <td>0</td>\n",
       "      <td>1</td>\n",
       "    </tr>\n",
       "    <tr>\n",
       "      <th>4</th>\n",
       "      <td>5</td>\n",
       "      <td>3</td>\n",
       "      <td>0</td>\n",
       "      <td>35.0</td>\n",
       "      <td>0</td>\n",
       "      <td>0</td>\n",
       "      <td>8.0500</td>\n",
       "      <td>0</td>\n",
       "      <td>0</td>\n",
       "    </tr>\n",
       "  </tbody>\n",
       "</table>\n",
       "</div>"
      ],
      "text/plain": [
       "   ID  TicketClass  Sex   Age  NumOfSiblingsAndSpouses  \\\n",
       "0   1            3    0  22.0                        1   \n",
       "1   2            1    1  38.0                        1   \n",
       "2   3            3    1  26.0                        0   \n",
       "3   4            1    1  35.0                        1   \n",
       "4   5            3    0  35.0                        0   \n",
       "\n",
       "   NumOfParentsAndChildren     Fare  PortOfEmbarkation  Survived  \n",
       "0                        0   7.2500                  0         0  \n",
       "1                        0  71.2833                  1         1  \n",
       "2                        0   7.9250                  0         1  \n",
       "3                        0  53.1000                  0         1  \n",
       "4                        0   8.0500                  0         0  "
      ]
     },
     "execution_count": 299,
     "metadata": {},
     "output_type": "execute_result"
    }
   ],
   "source": [
    "def prepare_raw_df(df):\n",
    "    # Entferne nicht benötigte Spalten \n",
    "    df = df.drop(['Name', 'Ticket'], axis=1)\n",
    "    # Entferne Spalten mit fehlenden Werten\n",
    "    df = df.drop(['Cabin'], axis=1)\n",
    "    # Entferne die beiden Datensätze mit fehlenden `Embarked` Werten\n",
    "    df = df.dropna(axis=0, subset=['Embarked'])\n",
    "    # Berechne fehlende `Age` Werte\n",
    "    df['Age'] = df.groupby(['Pclass','Sex'])['Age'].transform(lambda x: x.fillna(x.median()))\n",
    "    # Ersetze kategorische Werte mit dummy werten\n",
    "    df['Sex'] = df['Sex'].replace({'male': 0, 'female': 1})\n",
    "    df['Embarked'] = df['Embarked'].replace({'S': 0, 'C': 1, 'Q': 2})\n",
    "    # Spalten neu ordnen\n",
    "    df = df[['PassengerId', 'Pclass', 'Sex', 'Age', 'SibSp', 'Parch', 'Fare', 'Embarked', 'Survived']]\n",
    "    # Spalten umbenennen\n",
    "    df = df.rename(columns={ 'PassengerId': 'ID', 'Pclass': 'TicketClass', 'SibSp': 'NumOfSiblingsAndSpouses', 'Parch': 'NumOfParentsAndChildren', 'Embarked': 'PortOfEmbarkation' })\n",
    "    return df\n",
    "\n",
    "df = prepare_raw_df(raw_df)\n",
    "df.head()"
   ]
  },
  {
   "cell_type": "markdown",
   "metadata": {},
   "source": [
    "## Training"
   ]
  },
  {
   "cell_type": "markdown",
   "metadata": {},
   "source": [
    "Erstellen der X und y Werte und splitten des Datensatzes in Trainings- und Testdaten:"
   ]
  },
  {
   "cell_type": "code",
   "execution_count": 305,
   "metadata": {},
   "outputs": [],
   "source": [
    "from sklearn.model_selection import train_test_split\n",
    "\n",
    "X = df.drop(['ID', 'Survived'], axis=1)\n",
    "y = df['Survived']\n",
    "X_train, X_test, y_train, y_test = train_test_split(X, y, test_size=0.30, random_state=1)"
   ]
  },
  {
   "cell_type": "code",
   "execution_count": 306,
   "metadata": {},
   "outputs": [
    {
     "name": "stdout",
     "output_type": "stream",
     "text": [
      "Accuracy = 0.8052434456928839\n",
      "Precision = 0.7378640776699029\n",
      "Recall = 0.7524752475247525\n",
      "F1-Score = 0.7450980392156863\n"
     ]
    },
    {
     "data": {
      "image/png": "[encoded data removed]",
      "text/plain": [
       "<Figure size 640x480 with 1 Axes>"
      ]
     },
     "metadata": {},
     "output_type": "display_data"
    },
    {
     "name": "stderr",
     "output_type": "stream",
     "text": [
      "Function plot_confusion_matrix is deprecated; Function `plot_confusion_matrix` is deprecated in 1.0 and will be removed in 1.2. Use one of the class methods: ConfusionMatrixDisplay.from_predictions or ConfusionMatrixDisplay.from_estimator.\n"
     ]
    },
    {
     "data": {
      "image/png": "[encoded data removed]",
      "text/plain": [
       "<Figure size 640x480 with 2 Axes>"
      ]
     },
     "metadata": {},
     "output_type": "display_data"
    }
   ],
   "source": [
    "from sklearn.metrics import accuracy_score, precision_score, recall_score, f1_score, roc_auc_score, roc_curve, plot_confusion_matrix\n",
    "\n",
    "def plot_roc_curve(false_positive_rate, true_positive_rate, roc_auc):\n",
    "    lw = 2\n",
    "    plt.plot(false_positive_rate, true_positive_rate, color='darkorange', lw=lw, label=\"ROC curve (area = %0.2f)\" % roc_auc)\n",
    "    plt.plot([0, 1], [0, 1], color='navy', lw=lw, linestyle='--')\n",
    "    plt.xlabel('False Positive Rate')\n",
    "    plt.ylabel('True Positive Rate')\n",
    "    plt.title('ROC Curve')\n",
    "    plt.legend(loc=\"lower right\")\n",
    "    plt.show()\n",
    "\n",
    "def validate_model(model, X_test, y_test):\n",
    "    y_pred = model.predict(X_test)\n",
    "\n",
    "    accuracy = accuracy_score(y_test, y_pred)\n",
    "    print('Accuracy = {}'.format(accuracy))\n",
    "\n",
    "    precision = precision_score(y_test, y_pred)\n",
    "    print('Precision = {}'.format(precision))\n",
    "\n",
    "    recall = recall_score(y_test, y_pred)\n",
    "    print('Recall = {}'.format(recall))\n",
    "\n",
    "    f1Score = f1_score(y_test, y_pred)\n",
    "    print('F1-Score = {}'.format(f1Score))\n",
    "\n",
    "    roc_auc = roc_auc_score(y_test, y_pred) \n",
    "    y_prob = model.predict_proba(X_test)  \n",
    "    y_prob = y_prob[:, 1]  \n",
    "    false_positive_rate, true_positive_rate, thresholds = roc_curve(y_test, y_prob) \n",
    "    plot_roc_curve(false_positive_rate, true_positive_rate, roc_auc)\n",
    "\n",
    "    plot_confusion_matrix(model, X_test, y_test, cmap=plt.cm.Blues, normalize = 'all')\n",
    "\n",
    "from xgboost import XGBClassifier\n",
    "\n",
    "model = XGBClassifier()\n",
    "model.fit(X_train, y_train)\n",
    "validate_model(model, X_test, y_test)"
   ]
  },
  {
   "cell_type": "markdown",
   "metadata": {},
   "source": [
    "## Monitoring"
   ]
  },
  {
   "cell_type": "markdown",
   "metadata": {},
   "source": [
    "### WhyLabs"
   ]
  },
  {
   "cell_type": "code",
   "execution_count": 294,
   "metadata": {},
   "outputs": [
    {
     "name": "stdout",
     "output_type": "stream",
     "text": [
      "Enter your WhyLabs Org ID...\n",
      "Enter your WhyLabs Dataset ID...\n",
      "Enter your WhyLabs API key...\n"
     ]
    }
   ],
   "source": [
    "import getpass\n",
    "\n",
    "# Set your org-id here - should be something like \"org-xxxx\"\n",
    "print(\"Enter your WhyLabs Org ID...\") \n",
    "os.environ[\"WHYLABS_DEFAULT_ORG_ID\"] = input()\n",
    "\n",
    "# Set your datased_id (or model_id) here - should be something like \"model-xxxx\"\n",
    "print(\"Enter your WhyLabs Dataset ID...\")\n",
    "os.environ[\"WHYLABS_DEFAULT_DATASET_ID\"] = input()\n",
    "\n",
    "# Set your API key here\n",
    "print(\"Enter your WhyLabs API key...\")\n",
    "os.environ[\"WHYLABS_API_KEY\"] = getpass.getpass()"
   ]
  },
  {
   "cell_type": "markdown",
   "metadata": {},
   "source": [
    "Split data into daily batches and upload:"
   ]
  },
  {
   "cell_type": "code",
   "execution_count": 295,
   "metadata": {},
   "outputs": [
    {
     "name": "stderr",
     "output_type": "stream",
     "text": [
      "/tmp/ipykernel_56499/1328792212.py:12: DeprecationWarning: `profile` is deprecated as an argument to `write`; use `file` instead.\n",
      "  writer.write(profile=profile.view())\n"
     ]
    },
    {
     "ename": "ValueError",
     "evalue": "API key too short",
     "output_type": "error",
     "traceback": [
      "\u001b[0;31m---------------------------------------------------------------------------\u001b[0m",
      "\u001b[0;31mValueError\u001b[0m                                Traceback (most recent call last)",
      "Cell \u001b[0;32mIn [295], line 30\u001b[0m\n\u001b[1;32m     28\u001b[0m     df_split \u001b[39m=\u001b[39m add_random_column_outliers(df_split, \u001b[39m'\u001b[39m\u001b[39mAge\u001b[39m\u001b[39m'\u001b[39m, \u001b[39m10\u001b[39m)\n\u001b[1;32m     29\u001b[0m timestamp \u001b[39m=\u001b[39m datetime\u001b[39m.\u001b[39mnow(timezone\u001b[39m.\u001b[39mutc) \u001b[39m-\u001b[39m timedelta(days\u001b[39m=\u001b[39mday \u001b[39m+\u001b[39m \u001b[39m1\u001b[39m)\n\u001b[0;32m---> 30\u001b[0m log_data(df_split, timestamp)\n",
      "Cell \u001b[0;32mIn [295], line 12\u001b[0m, in \u001b[0;36mlog_data\u001b[0;34m(df, timestamp)\u001b[0m\n\u001b[1;32m     10\u001b[0m profile \u001b[39m=\u001b[39m why\u001b[39m.\u001b[39mlog(df)\u001b[39m.\u001b[39mprofile()\n\u001b[1;32m     11\u001b[0m profile\u001b[39m.\u001b[39mset_dataset_timestamp(timestamp)\n\u001b[0;32m---> 12\u001b[0m writer\u001b[39m.\u001b[39;49mwrite(profile\u001b[39m=\u001b[39;49mprofile\u001b[39m.\u001b[39;49mview())\n\u001b[1;32m     13\u001b[0m \u001b[39mprint\u001b[39m(\u001b[39m\"\u001b[39m\u001b[39mLogged profile for \u001b[39m\u001b[39m{}\u001b[39;00m\u001b[39m\"\u001b[39m\u001b[39m.\u001b[39mformat(timestamp))\n",
      "File \u001b[0;32m~/.local/lib/python3.10/site-packages/whylogs/core/utils/utils.py:11\u001b[0m, in \u001b[0;36mdeprecated_alias.<locals>.deprecated_decorator.<locals>.wrapper\u001b[0;34m(*args, **kwargs)\u001b[0m\n\u001b[1;32m      8\u001b[0m \u001b[39m@functools\u001b[39m\u001b[39m.\u001b[39mwraps(method)\n\u001b[1;32m      9\u001b[0m \u001b[39mdef\u001b[39;00m \u001b[39mwrapper\u001b[39m(\u001b[39m*\u001b[39margs, \u001b[39m*\u001b[39m\u001b[39m*\u001b[39mkwargs):\n\u001b[1;32m     10\u001b[0m     rename_kwargs(method\u001b[39m.\u001b[39m\u001b[39m__name__\u001b[39m, kwargs, aliases)\n\u001b[0;32m---> 11\u001b[0m     \u001b[39mreturn\u001b[39;00m method(\u001b[39m*\u001b[39;49margs, \u001b[39m*\u001b[39;49m\u001b[39m*\u001b[39;49mkwargs)\n",
      "File \u001b[0;32m~/.local/lib/python3.10/site-packages/whylogs/api/writer/whylabs.py:207\u001b[0m, in \u001b[0;36mWhyLabsWriter.write\u001b[0;34m(self, file, **kwargs)\u001b[0m\n\u001b[1;32m    205\u001b[0m     dataset_timestamp \u001b[39m=\u001b[39m view\u001b[39m.\u001b[39mdataset_timestamp \u001b[39mor\u001b[39;00m datetime\u001b[39m.\u001b[39mdatetime\u001b[39m.\u001b[39mnow(datetime\u001b[39m.\u001b[39mtimezone\u001b[39m.\u001b[39mutc)\n\u001b[1;32m    206\u001b[0m     dataset_timestamp_epoch \u001b[39m=\u001b[39m \u001b[39mint\u001b[39m(dataset_timestamp\u001b[39m.\u001b[39mtimestamp() \u001b[39m*\u001b[39m \u001b[39m1000\u001b[39m)\n\u001b[0;32m--> 207\u001b[0m     response \u001b[39m=\u001b[39m \u001b[39mself\u001b[39;49m\u001b[39m.\u001b[39;49m_do_upload(\n\u001b[1;32m    208\u001b[0m         dataset_timestamp\u001b[39m=\u001b[39;49mdataset_timestamp_epoch,\n\u001b[1;32m    209\u001b[0m         profile_file\u001b[39m=\u001b[39;49mtmp_file,\n\u001b[1;32m    210\u001b[0m     )\n\u001b[1;32m    211\u001b[0m \u001b[39m# TODO: retry\u001b[39;00m\n\u001b[1;32m    212\u001b[0m \u001b[39mreturn\u001b[39;00m response\n",
      "File \u001b[0;32m~/.local/lib/python3.10/site-packages/whylogs/api/writer/whylabs.py:284\u001b[0m, in \u001b[0;36mWhyLabsWriter._do_upload\u001b[0;34m(self, dataset_timestamp, profile_path, profile_file)\u001b[0m\n\u001b[1;32m    282\u001b[0m \u001b[39massert\u001b[39;00m profile_path \u001b[39mor\u001b[39;00m profile_file, \u001b[39m\"\u001b[39m\u001b[39mEither a file or file path must be specified when uploading profiles\u001b[39m\u001b[39m\"\u001b[39m\n\u001b[1;32m    283\u001b[0m \u001b[39mself\u001b[39m\u001b[39m.\u001b[39m_validate_org_and_dataset()\n\u001b[0;32m--> 284\u001b[0m \u001b[39mself\u001b[39;49m\u001b[39m.\u001b[39;49m_validate_api_key()\n\u001b[1;32m    286\u001b[0m logger\u001b[39m.\u001b[39mdebug(\u001b[39m\"\u001b[39m\u001b[39mGenerating the upload URL\u001b[39m\u001b[39m\"\u001b[39m)\n\u001b[1;32m    287\u001b[0m upload_url \u001b[39m=\u001b[39m \u001b[39mself\u001b[39m\u001b[39m.\u001b[39m_get_upload_url(dataset_timestamp\u001b[39m=\u001b[39mdataset_timestamp)\n",
      "File \u001b[0;32m~/.local/lib/python3.10/site-packages/whylogs/api/writer/whylabs.py:218\u001b[0m, in \u001b[0;36mWhyLabsWriter._validate_api_key\u001b[0;34m(self)\u001b[0m\n\u001b[1;32m    216\u001b[0m     \u001b[39mraise\u001b[39;00m \u001b[39mValueError\u001b[39;00m(\u001b[39m\"\u001b[39m\u001b[39mMissing API key. Set it via WHYLABS_API_KEY environment variable or as an api_key option\u001b[39m\u001b[39m\"\u001b[39m)\n\u001b[1;32m    217\u001b[0m \u001b[39mif\u001b[39;00m \u001b[39mlen\u001b[39m(\u001b[39mself\u001b[39m\u001b[39m.\u001b[39m_api_key) \u001b[39m<\u001b[39m \u001b[39m12\u001b[39m:\n\u001b[0;32m--> 218\u001b[0m     \u001b[39mraise\u001b[39;00m \u001b[39mValueError\u001b[39;00m(\u001b[39m\"\u001b[39m\u001b[39mAPI key too short\u001b[39m\u001b[39m\"\u001b[39m)\n\u001b[1;32m    219\u001b[0m \u001b[39mif\u001b[39;00m \u001b[39mlen\u001b[39m(\u001b[39mself\u001b[39m\u001b[39m.\u001b[39m_api_key) \u001b[39m>\u001b[39m \u001b[39m64\u001b[39m:\n\u001b[1;32m    220\u001b[0m     \u001b[39mraise\u001b[39;00m \u001b[39mValueError\u001b[39;00m(\u001b[39m\"\u001b[39m\u001b[39mAPI key too long\u001b[39m\u001b[39m\"\u001b[39m)\n",
      "\u001b[0;31mValueError\u001b[0m: API key too short"
     ]
    }
   ],
   "source": [
    "from datetime import datetime, timezone, timedelta\n",
    "import whylogs as why\n",
    "from whylogs.api.writer.whylabs import WhyLabsWriter\n",
    "\n",
    "writer = WhyLabsWriter()\n",
    "\n",
    "df_splits = np.array_split(df, 7)\n",
    "\n",
    "def log_data(df, timestamp):\n",
    "    profile = why.log(df).profile()\n",
    "    profile.set_dataset_timestamp(timestamp)\n",
    "    writer.write(profile=profile.view())\n",
    "    print('Logged profile for {}'.format(timestamp))\n",
    "\n",
    "def add_random_column_outliers(df, column, num_of_outliers):\n",
    "    df = df.copy(deep=True)\n",
    "    df = df.reset_index()\n",
    "    number_of_rows = df.shape[0]\n",
    "    for i in range(num_of_outliers):\n",
    "        random_row = np.random.randint(0, number_of_rows)\n",
    "        df.loc[random_row, column] += round(np.random.uniform(low=150.0, high=200.0), 2)\n",
    "    return df\n",
    "\n",
    "for day, df_split in enumerate(df_splits):\n",
    "    # Rename column `Survived` to `output_survived`\n",
    "    df_split.rename(columns={ 'Survived': 'output_survived' }, inplace=True)\n",
    "    if day == 3:\n",
    "        df_split = add_random_column_outliers(df_split, 'Age', 10)\n",
    "    timestamp = datetime.now(timezone.utc) - timedelta(days=day + 1)\n",
    "    log_data(df_split, timestamp)"
   ]
  },
  {
   "cell_type": "markdown",
   "metadata": {},
   "source": [
    "### Superwise"
   ]
  },
  {
   "cell_type": "code",
   "execution_count": 296,
   "metadata": {},
   "outputs": [],
   "source": [
    "import getpass\n",
    "\n",
    "import os\n",
    "from superwise import Superwise\n",
    "\n",
    "print(\"Enter your Superwise Client ID...\")\n",
    "os.environ['SUPERWISE_CLIENT_ID'] = input()\n",
    "\n",
    "print(\"Enter your Superwise Secret...\")\n",
    "os.environ['SUPERWISE_SECRET'] = getpass.getpass()\n",
    "\n",
    "sw = Superwise()"
   ]
  },
  {
   "cell_type": "code",
   "execution_count": 312,
   "metadata": {},
   "outputs": [
    {
     "name": "stdout",
     "output_type": "stream",
     "text": [
      "Enter your Superwise Project ID...\n",
      "Enter your Superwise Project ID...\n"
     ]
    }
   ],
   "source": [
    "from datetime import datetime\n",
    "from superwise.models.dataset import Dataset\n",
    "from superwise.models.version import Version\n",
    "\n",
    "def prepare_sw_data(df):\n",
    "    df = df.copy(deep=True)\n",
    "    df['timestamp'] = datetime.today().strftime('%Y-%m-%d %H:%M:%S.%f')\n",
    "    return df\n",
    "\n",
    "print(\"Enter your Superwise Project ID...\")\n",
    "sw_project_id = 4 #input()\n",
    "\n",
    "print(\"Enter your Superwise Project ID...\")\n",
    "sw_model_id = 13 #input()\n",
    "\n",
    "sw_train_csv_path = 'data/sw_train.csv'\n",
    "\n",
    "sw_df = prepare_sw_data(df)\n",
    "sw_df.to_csv(sw_train_csv_path, index=False)\n",
    "\n",
    "# Create a new dataset\n",
    "sw_dataset = Dataset(name=f\"Training Dataset\", files=[sw_train_csv_path], project_id=sw_project_id)\n",
    "sw_dataset = sw.dataset.create(sw_dataset)\n",
    "\n",
    "# Create a new version\n",
    "version = Version(name=datetime.today().strftime('%Y-%m-%d-%H-%M-%S'), model_id=sw_model_id, dataset_id=sw_dataset.id)\n",
    "new_version = sw.version.create(version)\n",
    "\n",
    "# Upload the new version\n",
    "new_version = sw.version.activate(new_version.id)"
   ]
  },
  {
   "cell_type": "markdown",
   "metadata": {},
   "source": [
    "### Interaktive Demo"
   ]
  },
  {
   "cell_type": "code",
   "execution_count": null,
   "metadata": {},
   "outputs": [
    {
     "data": {
      "text/plain": [
       "1"
      ]
     },
     "execution_count": 171,
     "metadata": {},
     "output_type": "execute_result"
    }
   ],
   "source": [
    "def predictSingleValue(model, ticket_class, sex, age, num_of_siblings_and_spouses, num_of_parents_and_children, fare, port_of_embarkation):\n",
    "    input_dict = {\n",
    "        'TicketClass': [ticket_class],\n",
    "        'Sex': [sex],\n",
    "        'Age': [age],\n",
    "        'NumOfSiblingsAndSpouses': [num_of_siblings_and_spouses],\n",
    "        'NumOfParentsAndChildren': [num_of_parents_and_children],\n",
    "        'Fare': [fare],\n",
    "        'PortOfEmbarkation': [port_of_embarkation],\n",
    "    }\n",
    "    input_df = pd.DataFrame(data=input_dict)\n",
    "    return model.predict(input_df)[0]\n",
    "\n",
    "predictSingleValue(model, 2, 1, 34.5, 0, 0, 8, 2)"
   ]
  },
  {
   "cell_type": "markdown",
   "metadata": {},
   "source": [
    "## Auswertung"
   ]
  },
  {
   "cell_type": "markdown",
   "metadata": {},
   "source": [
    "Darstellung der Korrelationen zwischen `Survived` und den restlichen Columns:"
   ]
  },
  {
   "cell_type": "code",
   "execution_count": null,
   "metadata": {},
   "outputs": [
    {
     "data": {
      "text/plain": [
       "<AxesSubplot: >"
      ]
     },
     "execution_count": 147,
     "metadata": {},
     "output_type": "execute_result"
    },
    {
     "data": {
      "image/png": "[encoded data removed]",
      "text/plain": [
       "<Figure size 640x480 with 2 Axes>"
      ]
     },
     "metadata": {},
     "output_type": "display_data"
    }
   ],
   "source": [
    "corr = df.corrwith(df['Survived'])\n",
    "corr_df = pd.DataFrame({ 'Survived': corr }, index=df.columns)\n",
    "cmap = sns.diverging_palette(10,10, as_cmap=True)\n",
    "sns.heatmap(corr_df, annot=True, cmap=cmap, vmin=-1, vmax=1)"
   ]
  }
 ],
 "metadata": {
  "kernelspec": {
   "display_name": "Python 3.10.8 64-bit",
   "language": "python",
   "name": "python3"
  },
  "language_info": {
   "codemirror_mode": {
    "name": "ipython",
    "version": 3
   },
   "file_extension": ".py",
   "mimetype": "text/x-python",
   "name": "python",
   "nbconvert_exporter": "python",
   "pygments_lexer": "ipython3",
   "version": "3.10.8"
  },
  "orig_nbformat": 4,
  "vscode": {
   "interpreter": {
    "hash": "949777d72b0d2535278d3dc13498b2535136f6dfe0678499012e853ee9abcab1"
   }
  }
 },
 "nbformat": 4,
 "nbformat_minor": 2
}
