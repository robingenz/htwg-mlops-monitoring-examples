{
 "cells": [
  {
   "cell_type": "markdown",
   "metadata": {},
   "source": [
    "# Titanic Dataset\n",
    "\n",
    "## Setup\n",
    "\n",
    "### Include all libraries\n",
    "\n",
    "Include all required libraries and output the version information:"
   ]
  },
  {
   "cell_type": "code",
   "execution_count": 1,
   "metadata": {},
   "outputs": [
    {
     "data": {
      "text/plain": [
       "('1.23.4', '1.5.2', '1.1.3', '0.12.0')"
      ]
     },
     "execution_count": 1,
     "metadata": {},
     "output_type": "execute_result"
    }
   ],
   "source": [
    "import os\n",
    "import getpass\n",
    "from datetime import datetime\n",
    "import matplotlib.pyplot as plt\n",
    "import numpy as np\n",
    "import pandas as pd\n",
    "import sklearn\n",
    "import seaborn as sns\n",
    "%matplotlib inline\n",
    "\n",
    "np.__version__, pd.__version__, sklearn.__version__, sns.__version__"
   ]
  },
  {
   "cell_type": "code",
   "execution_count": 2,
   "metadata": {},
   "outputs": [
    {
     "data": {
      "application/json": {
       "Software versions": [
        {
         "module": "Python",
         "version": "3.10.8 64bit [GCC 10.2.1 20210110]"
        },
        {
         "module": "IPython",
         "version": "8.6.0"
        },
        {
         "module": "OS",
         "version": "Linux 5.10.104 linuxkit aarch64 with glibc2.31"
        }
       ]
      },
      "text/html": [
       "<table><tr><th>Software</th><th>Version</th></tr><tr><td>Python</td><td>3.10.8 64bit [GCC 10.2.1 20210110]</td></tr><tr><td>IPython</td><td>8.6.0</td></tr><tr><td>OS</td><td>Linux 5.10.104 linuxkit aarch64 with glibc2.31</td></tr><tr><td colspan='2'>Mon Nov 28 13:54:21 2022 UTC</td></tr></table>"
      ],
      "text/latex": [
       "\\begin{tabular}{|l|l|}\\hline\n",
       "{\\bf Software} & {\\bf Version} \\\\ \\hline\\hline\n",
       "Python & 3.10.8 64bit [GCC 10.2.1 20210110] \\\\ \\hline\n",
       "IPython & 8.6.0 \\\\ \\hline\n",
       "OS & Linux 5.10.104 linuxkit aarch64 with glibc2.31 \\\\ \\hline\n",
       "\\hline \\multicolumn{2}{|l|}{Mon Nov 28 13:54:21 2022 UTC} \\\\ \\hline\n",
       "\\end{tabular}\n"
      ],
      "text/plain": [
       "Software versions\n",
       "Python 3.10.8 64bit [GCC 10.2.1 20210110]\n",
       "IPython 8.6.0\n",
       "OS Linux 5.10.104 linuxkit aarch64 with glibc2.31\n",
       "Mon Nov 28 13:54:21 2022 UTC"
      ]
     },
     "execution_count": 2,
     "metadata": {},
     "output_type": "execute_result"
    }
   ],
   "source": [
    "%load_ext version_information\n",
    "%version_information"
   ]
  },
  {
   "cell_type": "markdown",
   "metadata": {},
   "source": [
    "### Download dataset"
   ]
  },
  {
   "cell_type": "markdown",
   "metadata": {},
   "source": [
    "Please manually download the dataset `train.csv` from [Kaggle](https://www.kaggle.com/competitions/titanic/data) (after sign-in) into the folder `data`."
   ]
  },
  {
   "cell_type": "code",
   "execution_count": 3,
   "metadata": {},
   "outputs": [],
   "source": [
    "raw_train_csv_path = 'data/train.csv'\n",
    "\n",
    "while not os.path.isfile(raw_train_csv_path):\n",
    "    print('Please sign in to Kaggle and download the dataset `train.csv` into the folder `data`.')\n",
    "    input('Press Enter to continue...')\n",
    "\n",
    "raw_df = pd.read_csv(raw_train_csv_path)"
   ]
  },
  {
   "cell_type": "markdown",
   "metadata": {},
   "source": [
    "## Data preparation"
   ]
  },
  {
   "cell_type": "markdown",
   "metadata": {},
   "source": [
    "Print the first 5 records:"
   ]
  },
  {
   "cell_type": "code",
   "execution_count": 4,
   "metadata": {},
   "outputs": [
    {
     "data": {
      "text/html": [
       "<div>\n",
       "<style scoped>\n",
       "    .dataframe tbody tr th:only-of-type {\n",
       "        vertical-align: middle;\n",
       "    }\n",
       "\n",
       "    .dataframe tbody tr th {\n",
       "        vertical-align: top;\n",
       "    }\n",
       "\n",
       "    .dataframe thead th {\n",
       "        text-align: right;\n",
       "    }\n",
       "</style>\n",
       "<table border=\"1\" class=\"dataframe\">\n",
       "  <thead>\n",
       "    <tr style=\"text-align: right;\">\n",
       "      <th></th>\n",
       "      <th>PassengerId</th>\n",
       "      <th>Survived</th>\n",
       "      <th>Pclass</th>\n",
       "      <th>Name</th>\n",
       "      <th>Sex</th>\n",
       "      <th>Age</th>\n",
       "      <th>SibSp</th>\n",
       "      <th>Parch</th>\n",
       "      <th>Ticket</th>\n",
       "      <th>Fare</th>\n",
       "      <th>Cabin</th>\n",
       "      <th>Embarked</th>\n",
       "    </tr>\n",
       "  </thead>\n",
       "  <tbody>\n",
       "    <tr>\n",
       "      <th>0</th>\n",
       "      <td>1</td>\n",
       "      <td>0</td>\n",
       "      <td>3</td>\n",
       "      <td>Braund, Mr. Owen Harris</td>\n",
       "      <td>male</td>\n",
       "      <td>22.0</td>\n",
       "      <td>1</td>\n",
       "      <td>0</td>\n",
       "      <td>A/5 21171</td>\n",
       "      <td>7.2500</td>\n",
       "      <td>NaN</td>\n",
       "      <td>S</td>\n",
       "    </tr>\n",
       "    <tr>\n",
       "      <th>1</th>\n",
       "      <td>2</td>\n",
       "      <td>1</td>\n",
       "      <td>1</td>\n",
       "      <td>Cumings, Mrs. John Bradley (Florence Briggs Th...</td>\n",
       "      <td>female</td>\n",
       "      <td>38.0</td>\n",
       "      <td>1</td>\n",
       "      <td>0</td>\n",
       "      <td>PC 17599</td>\n",
       "      <td>71.2833</td>\n",
       "      <td>C85</td>\n",
       "      <td>C</td>\n",
       "    </tr>\n",
       "    <tr>\n",
       "      <th>2</th>\n",
       "      <td>3</td>\n",
       "      <td>1</td>\n",
       "      <td>3</td>\n",
       "      <td>Heikkinen, Miss. Laina</td>\n",
       "      <td>female</td>\n",
       "      <td>26.0</td>\n",
       "      <td>0</td>\n",
       "      <td>0</td>\n",
       "      <td>STON/O2. 3101282</td>\n",
       "      <td>7.9250</td>\n",
       "      <td>NaN</td>\n",
       "      <td>S</td>\n",
       "    </tr>\n",
       "    <tr>\n",
       "      <th>3</th>\n",
       "      <td>4</td>\n",
       "      <td>1</td>\n",
       "      <td>1</td>\n",
       "      <td>Futrelle, Mrs. Jacques Heath (Lily May Peel)</td>\n",
       "      <td>female</td>\n",
       "      <td>35.0</td>\n",
       "      <td>1</td>\n",
       "      <td>0</td>\n",
       "      <td>113803</td>\n",
       "      <td>53.1000</td>\n",
       "      <td>C123</td>\n",
       "      <td>S</td>\n",
       "    </tr>\n",
       "    <tr>\n",
       "      <th>4</th>\n",
       "      <td>5</td>\n",
       "      <td>0</td>\n",
       "      <td>3</td>\n",
       "      <td>Allen, Mr. William Henry</td>\n",
       "      <td>male</td>\n",
       "      <td>35.0</td>\n",
       "      <td>0</td>\n",
       "      <td>0</td>\n",
       "      <td>373450</td>\n",
       "      <td>8.0500</td>\n",
       "      <td>NaN</td>\n",
       "      <td>S</td>\n",
       "    </tr>\n",
       "  </tbody>\n",
       "</table>\n",
       "</div>"
      ],
      "text/plain": [
       "   PassengerId  Survived  Pclass  \\\n",
       "0            1         0       3   \n",
       "1            2         1       1   \n",
       "2            3         1       3   \n",
       "3            4         1       1   \n",
       "4            5         0       3   \n",
       "\n",
       "                                                Name     Sex   Age  SibSp  \\\n",
       "0                            Braund, Mr. Owen Harris    male  22.0      1   \n",
       "1  Cumings, Mrs. John Bradley (Florence Briggs Th...  female  38.0      1   \n",
       "2                             Heikkinen, Miss. Laina  female  26.0      0   \n",
       "3       Futrelle, Mrs. Jacques Heath (Lily May Peel)  female  35.0      1   \n",
       "4                           Allen, Mr. William Henry    male  35.0      0   \n",
       "\n",
       "   Parch            Ticket     Fare Cabin Embarked  \n",
       "0      0         A/5 21171   7.2500   NaN        S  \n",
       "1      0          PC 17599  71.2833   C85        C  \n",
       "2      0  STON/O2. 3101282   7.9250   NaN        S  \n",
       "3      0            113803  53.1000  C123        S  \n",
       "4      0            373450   8.0500   NaN        S  "
      ]
     },
     "execution_count": 4,
     "metadata": {},
     "output_type": "execute_result"
    }
   ],
   "source": [
    "raw_df.head()"
   ]
  },
  {
   "cell_type": "code",
   "execution_count": 24,
   "metadata": {},
   "outputs": [
    {
     "data": {
      "text/html": [
       "<div>\n",
       "<style scoped>\n",
       "    .dataframe tbody tr th:only-of-type {\n",
       "        vertical-align: middle;\n",
       "    }\n",
       "\n",
       "    .dataframe tbody tr th {\n",
       "        vertical-align: top;\n",
       "    }\n",
       "\n",
       "    .dataframe thead th {\n",
       "        text-align: right;\n",
       "    }\n",
       "</style>\n",
       "<table border=\"1\" class=\"dataframe\">\n",
       "  <thead>\n",
       "    <tr style=\"text-align: right;\">\n",
       "      <th></th>\n",
       "      <th>PassengerId</th>\n",
       "      <th>Survived</th>\n",
       "      <th>Pclass</th>\n",
       "      <th>Age</th>\n",
       "      <th>SibSp</th>\n",
       "      <th>Parch</th>\n",
       "      <th>Fare</th>\n",
       "    </tr>\n",
       "  </thead>\n",
       "  <tbody>\n",
       "    <tr>\n",
       "      <th>count</th>\n",
       "      <td>891.000000</td>\n",
       "      <td>891.000000</td>\n",
       "      <td>891.000000</td>\n",
       "      <td>714.000000</td>\n",
       "      <td>891.000000</td>\n",
       "      <td>891.000000</td>\n",
       "      <td>891.000000</td>\n",
       "    </tr>\n",
       "    <tr>\n",
       "      <th>mean</th>\n",
       "      <td>446.000000</td>\n",
       "      <td>0.383838</td>\n",
       "      <td>2.308642</td>\n",
       "      <td>29.699118</td>\n",
       "      <td>0.523008</td>\n",
       "      <td>0.381594</td>\n",
       "      <td>32.204208</td>\n",
       "    </tr>\n",
       "    <tr>\n",
       "      <th>std</th>\n",
       "      <td>257.353842</td>\n",
       "      <td>0.486592</td>\n",
       "      <td>0.836071</td>\n",
       "      <td>14.526497</td>\n",
       "      <td>1.102743</td>\n",
       "      <td>0.806057</td>\n",
       "      <td>49.693429</td>\n",
       "    </tr>\n",
       "    <tr>\n",
       "      <th>min</th>\n",
       "      <td>1.000000</td>\n",
       "      <td>0.000000</td>\n",
       "      <td>1.000000</td>\n",
       "      <td>0.420000</td>\n",
       "      <td>0.000000</td>\n",
       "      <td>0.000000</td>\n",
       "      <td>0.000000</td>\n",
       "    </tr>\n",
       "    <tr>\n",
       "      <th>25%</th>\n",
       "      <td>223.500000</td>\n",
       "      <td>0.000000</td>\n",
       "      <td>2.000000</td>\n",
       "      <td>20.125000</td>\n",
       "      <td>0.000000</td>\n",
       "      <td>0.000000</td>\n",
       "      <td>7.910400</td>\n",
       "    </tr>\n",
       "    <tr>\n",
       "      <th>50%</th>\n",
       "      <td>446.000000</td>\n",
       "      <td>0.000000</td>\n",
       "      <td>3.000000</td>\n",
       "      <td>28.000000</td>\n",
       "      <td>0.000000</td>\n",
       "      <td>0.000000</td>\n",
       "      <td>14.454200</td>\n",
       "    </tr>\n",
       "    <tr>\n",
       "      <th>75%</th>\n",
       "      <td>668.500000</td>\n",
       "      <td>1.000000</td>\n",
       "      <td>3.000000</td>\n",
       "      <td>38.000000</td>\n",
       "      <td>1.000000</td>\n",
       "      <td>0.000000</td>\n",
       "      <td>31.000000</td>\n",
       "    </tr>\n",
       "    <tr>\n",
       "      <th>max</th>\n",
       "      <td>891.000000</td>\n",
       "      <td>1.000000</td>\n",
       "      <td>3.000000</td>\n",
       "      <td>80.000000</td>\n",
       "      <td>8.000000</td>\n",
       "      <td>6.000000</td>\n",
       "      <td>512.329200</td>\n",
       "    </tr>\n",
       "  </tbody>\n",
       "</table>\n",
       "</div>"
      ],
      "text/plain": [
       "       PassengerId    Survived      Pclass         Age       SibSp  \\\n",
       "count   891.000000  891.000000  891.000000  714.000000  891.000000   \n",
       "mean    446.000000    0.383838    2.308642   29.699118    0.523008   \n",
       "std     257.353842    0.486592    0.836071   14.526497    1.102743   \n",
       "min       1.000000    0.000000    1.000000    0.420000    0.000000   \n",
       "25%     223.500000    0.000000    2.000000   20.125000    0.000000   \n",
       "50%     446.000000    0.000000    3.000000   28.000000    0.000000   \n",
       "75%     668.500000    1.000000    3.000000   38.000000    1.000000   \n",
       "max     891.000000    1.000000    3.000000   80.000000    8.000000   \n",
       "\n",
       "            Parch        Fare  \n",
       "count  891.000000  891.000000  \n",
       "mean     0.381594   32.204208  \n",
       "std      0.806057   49.693429  \n",
       "min      0.000000    0.000000  \n",
       "25%      0.000000    7.910400  \n",
       "50%      0.000000   14.454200  \n",
       "75%      0.000000   31.000000  \n",
       "max      6.000000  512.329200  "
      ]
     },
     "execution_count": 24,
     "metadata": {},
     "output_type": "execute_result"
    }
   ],
   "source": [
    "raw_df.describe()"
   ]
  },
  {
   "cell_type": "markdown",
   "metadata": {},
   "source": [
    "Print the shape of the records:"
   ]
  },
  {
   "cell_type": "code",
   "execution_count": 5,
   "metadata": {},
   "outputs": [
    {
     "data": {
      "text/plain": [
       "(891, 12)"
      ]
     },
     "execution_count": 5,
     "metadata": {},
     "output_type": "execute_result"
    }
   ],
   "source": [
    "raw_df.shape"
   ]
  },
  {
   "cell_type": "markdown",
   "metadata": {},
   "source": [
    "Print all column names:"
   ]
  },
  {
   "cell_type": "code",
   "execution_count": 6,
   "metadata": {},
   "outputs": [
    {
     "data": {
      "text/plain": [
       "Index(['PassengerId', 'Survived', 'Pclass', 'Name', 'Sex', 'Age', 'SibSp',\n",
       "       'Parch', 'Ticket', 'Fare', 'Cabin', 'Embarked'],\n",
       "      dtype='object')"
      ]
     },
     "execution_count": 6,
     "metadata": {},
     "output_type": "execute_result"
    }
   ],
   "source": [
    "raw_df.columns"
   ]
  },
  {
   "cell_type": "markdown",
   "metadata": {},
   "source": [
    "Print all data types:"
   ]
  },
  {
   "cell_type": "code",
   "execution_count": 7,
   "metadata": {},
   "outputs": [
    {
     "data": {
      "text/plain": [
       "PassengerId      int64\n",
       "Survived         int64\n",
       "Pclass           int64\n",
       "Name            object\n",
       "Sex             object\n",
       "Age            float64\n",
       "SibSp            int64\n",
       "Parch            int64\n",
       "Ticket          object\n",
       "Fare           float64\n",
       "Cabin           object\n",
       "Embarked        object\n",
       "dtype: object"
      ]
     },
     "execution_count": 7,
     "metadata": {},
     "output_type": "execute_result"
    }
   ],
   "source": [
    "raw_df.dtypes"
   ]
  },
  {
   "cell_type": "markdown",
   "metadata": {},
   "source": [
    "In which columns are how many `null` values?"
   ]
  },
  {
   "cell_type": "code",
   "execution_count": 8,
   "metadata": {},
   "outputs": [
    {
     "name": "stdout",
     "output_type": "stream",
     "text": [
      "Age: 177 null values\n",
      "Cabin: 687 null values\n",
      "Embarked: 2 null values\n"
     ]
    }
   ],
   "source": [
    "for column in raw_df:\n",
    "    if (raw_df[column].isnull().sum()):\n",
    "        print(f'{column}: {raw_df[column].isnull().sum()} null values')"
   ]
  },
  {
   "cell_type": "markdown",
   "metadata": {},
   "source": [
    "Preparation of the dataset:"
   ]
  },
  {
   "cell_type": "code",
   "execution_count": 9,
   "metadata": {},
   "outputs": [
    {
     "data": {
      "text/html": [
       "<div>\n",
       "<style scoped>\n",
       "    .dataframe tbody tr th:only-of-type {\n",
       "        vertical-align: middle;\n",
       "    }\n",
       "\n",
       "    .dataframe tbody tr th {\n",
       "        vertical-align: top;\n",
       "    }\n",
       "\n",
       "    .dataframe thead th {\n",
       "        text-align: right;\n",
       "    }\n",
       "</style>\n",
       "<table border=\"1\" class=\"dataframe\">\n",
       "  <thead>\n",
       "    <tr style=\"text-align: right;\">\n",
       "      <th></th>\n",
       "      <th>id</th>\n",
       "      <th>ticket_class</th>\n",
       "      <th>sex</th>\n",
       "      <th>age</th>\n",
       "      <th>num_of_siblings_and_spouses</th>\n",
       "      <th>num_of_parents_and_children</th>\n",
       "      <th>fare</th>\n",
       "      <th>port_of_embarkation</th>\n",
       "      <th>survived</th>\n",
       "    </tr>\n",
       "  </thead>\n",
       "  <tbody>\n",
       "    <tr>\n",
       "      <th>0</th>\n",
       "      <td>1</td>\n",
       "      <td>3</td>\n",
       "      <td>0</td>\n",
       "      <td>22.0</td>\n",
       "      <td>1</td>\n",
       "      <td>0</td>\n",
       "      <td>7.2500</td>\n",
       "      <td>0</td>\n",
       "      <td>0</td>\n",
       "    </tr>\n",
       "    <tr>\n",
       "      <th>1</th>\n",
       "      <td>2</td>\n",
       "      <td>1</td>\n",
       "      <td>1</td>\n",
       "      <td>38.0</td>\n",
       "      <td>1</td>\n",
       "      <td>0</td>\n",
       "      <td>71.2833</td>\n",
       "      <td>1</td>\n",
       "      <td>1</td>\n",
       "    </tr>\n",
       "    <tr>\n",
       "      <th>2</th>\n",
       "      <td>3</td>\n",
       "      <td>3</td>\n",
       "      <td>1</td>\n",
       "      <td>26.0</td>\n",
       "      <td>0</td>\n",
       "      <td>0</td>\n",
       "      <td>7.9250</td>\n",
       "      <td>0</td>\n",
       "      <td>1</td>\n",
       "    </tr>\n",
       "    <tr>\n",
       "      <th>3</th>\n",
       "      <td>4</td>\n",
       "      <td>1</td>\n",
       "      <td>1</td>\n",
       "      <td>35.0</td>\n",
       "      <td>1</td>\n",
       "      <td>0</td>\n",
       "      <td>53.1000</td>\n",
       "      <td>0</td>\n",
       "      <td>1</td>\n",
       "    </tr>\n",
       "    <tr>\n",
       "      <th>4</th>\n",
       "      <td>5</td>\n",
       "      <td>3</td>\n",
       "      <td>0</td>\n",
       "      <td>35.0</td>\n",
       "      <td>0</td>\n",
       "      <td>0</td>\n",
       "      <td>8.0500</td>\n",
       "      <td>0</td>\n",
       "      <td>0</td>\n",
       "    </tr>\n",
       "  </tbody>\n",
       "</table>\n",
       "</div>"
      ],
      "text/plain": [
       "   id  ticket_class  sex   age  num_of_siblings_and_spouses  \\\n",
       "0   1             3    0  22.0                            1   \n",
       "1   2             1    1  38.0                            1   \n",
       "2   3             3    1  26.0                            0   \n",
       "3   4             1    1  35.0                            1   \n",
       "4   5             3    0  35.0                            0   \n",
       "\n",
       "   num_of_parents_and_children     fare  port_of_embarkation  survived  \n",
       "0                            0   7.2500                    0         0  \n",
       "1                            0  71.2833                    1         1  \n",
       "2                            0   7.9250                    0         1  \n",
       "3                            0  53.1000                    0         1  \n",
       "4                            0   8.0500                    0         0  "
      ]
     },
     "execution_count": 9,
     "metadata": {},
     "output_type": "execute_result"
    }
   ],
   "source": [
    "def prepare_raw_df(df):\n",
    "    # Remove unneeded columns \n",
    "    df = df.drop(['Name', 'Ticket'], axis=1)\n",
    "    # Remove columns with missing values\n",
    "    df = df.drop(['Cabin'], axis=1)\n",
    "    # Remove the two records with missing `Embarked` values\n",
    "    df = df.dropna(axis=0, subset=['Embarked'])\n",
    "    # Calculate missing `Age` values\n",
    "    df['Age'] = df.groupby(['Pclass','Sex'])['Age'].transform(lambda x: x.fillna(x.median()))\n",
    "    # Replace categorical values with dummy values\n",
    "    df['Sex'] = df['Sex'].replace({'male': 0, 'female': 1})\n",
    "    df['Embarked'] = df['Embarked'].replace({'S': 0, 'C': 1, 'Q': 2})\n",
    "    # Reorder columns\n",
    "    df = df[['PassengerId', 'Pclass', 'Sex', 'Age', 'SibSp', 'Parch', 'Fare', 'Embarked', 'Survived']]\n",
    "    # Rename columns\n",
    "    df = df.rename(columns={ 'PassengerId': 'id', 'Pclass': 'ticket_class', 'Sex': 'sex', 'Age': 'age',\n",
    "                             'SibSp': 'num_of_siblings_and_spouses', 'Parch': 'num_of_parents_and_children', \n",
    "                             'Fare': 'fare', 'Embarked': 'port_of_embarkation', 'Survived': 'survived'})\n",
    "    return df\n",
    "\n",
    "df = prepare_raw_df(raw_df)\n",
    "df.head()"
   ]
  },
  {
   "cell_type": "markdown",
   "metadata": {},
   "source": [
    "## Training"
   ]
  },
  {
   "cell_type": "markdown",
   "metadata": {},
   "source": [
    "Create the X and y values and split the data set into training and test data:"
   ]
  },
  {
   "cell_type": "code",
   "execution_count": 10,
   "metadata": {},
   "outputs": [],
   "source": [
    "from sklearn.model_selection import train_test_split\n",
    "\n",
    "X = df.drop(['id', 'survived'], axis=1)\n",
    "y = df['survived']\n",
    "X_train, X_test, y_train, y_test = train_test_split(X, y, test_size=0.30, random_state=1)"
   ]
  },
  {
   "cell_type": "markdown",
   "metadata": {},
   "source": [
    "Fit and validate the model and plot the ROC curve and confusion matrix:"
   ]
  },
  {
   "cell_type": "code",
   "execution_count": 11,
   "metadata": {},
   "outputs": [
    {
     "name": "stdout",
     "output_type": "stream",
     "text": [
      "Accuracy = 0.8052434456928839\n",
      "Precision = 0.7378640776699029\n",
      "Recall = 0.7524752475247525\n",
      "F1-Score = 0.7450980392156863\n"
     ]
    },
    {
     "data": {
      "image/png": "[encoded data removed]",
      "text/plain": [
       "<Figure size 640x480 with 1 Axes>"
      ]
     },
     "metadata": {},
     "output_type": "display_data"
    },
    {
     "name": "stderr",
     "output_type": "stream",
     "text": [
      "/home/vscode/.local/lib/python3.10/site-packages/sklearn/utils/deprecation.py:87: FutureWarning: Function plot_confusion_matrix is deprecated; Function `plot_confusion_matrix` is deprecated in 1.0 and will be removed in 1.2. Use one of the class methods: ConfusionMatrixDisplay.from_predictions or ConfusionMatrixDisplay.from_estimator.\n",
      "  warnings.warn(msg, category=FutureWarning)\n"
     ]
    },
    {
     "data": {
      "image/png": "[encoded data removed]",
      "text/plain": [
       "<Figure size 640x480 with 2 Axes>"
      ]
     },
     "metadata": {},
     "output_type": "display_data"
    }
   ],
   "source": [
    "from sklearn.metrics import accuracy_score, precision_score, recall_score, f1_score, roc_auc_score, roc_curve, plot_confusion_matrix\n",
    "\n",
    "def plot_roc_curve(false_positive_rate, true_positive_rate, roc_auc):\n",
    "    lw = 2\n",
    "    plt.plot(false_positive_rate, true_positive_rate, color='darkorange', lw=lw, label=\"ROC curve (area = %0.2f)\" % roc_auc)\n",
    "    plt.plot([0, 1], [0, 1], color='navy', lw=lw, linestyle='--')\n",
    "    plt.xlabel('False Positive Rate')\n",
    "    plt.ylabel('True Positive Rate')\n",
    "    plt.title('ROC Curve')\n",
    "    plt.legend(loc=\"lower right\")\n",
    "    plt.show()\n",
    "\n",
    "def validate_model(model, X_test, y_test):\n",
    "    y_pred = model.predict(X_test)\n",
    "\n",
    "    accuracy = accuracy_score(y_test, y_pred)\n",
    "    print('Accuracy = {}'.format(accuracy))\n",
    "\n",
    "    precision = precision_score(y_test, y_pred)\n",
    "    print('Precision = {}'.format(precision))\n",
    "\n",
    "    recall = recall_score(y_test, y_pred)\n",
    "    print('Recall = {}'.format(recall))\n",
    "\n",
    "    f1Score = f1_score(y_test, y_pred)\n",
    "    print('F1-Score = {}'.format(f1Score))\n",
    "\n",
    "    roc_auc = roc_auc_score(y_test, y_pred) \n",
    "    y_prob = model.predict_proba(X_test)  \n",
    "    y_prob = y_prob[:, 1]  \n",
    "    false_positive_rate, true_positive_rate, thresholds = roc_curve(y_test, y_prob) \n",
    "    plot_roc_curve(false_positive_rate, true_positive_rate, roc_auc)\n",
    "\n",
    "    plot_confusion_matrix(model, X_test, y_test, cmap=plt.cm.Blues, normalize = 'all')\n",
    "\n",
    "from xgboost import XGBClassifier\n",
    "\n",
    "model = XGBClassifier()\n",
    "model.fit(X_train, y_train)\n",
    "validate_model(model, X_test, y_test)"
   ]
  },
  {
   "cell_type": "markdown",
   "metadata": {},
   "source": [
    "## Monitoring"
   ]
  },
  {
   "cell_type": "markdown",
   "metadata": {},
   "source": [
    "### Superwise"
   ]
  },
  {
   "cell_type": "markdown",
   "metadata": {},
   "source": [
    "[Website](https://superwise.ai/) | [Documentation](https://docs.superwise.ai/docs) | [Portal](https://portal.superwise.ai/)\n",
    "\n",
    "#### Setup\n",
    "\n",
    "Create a new secret in the Superwise portal and enter the client id and the secret:"
   ]
  },
  {
   "cell_type": "code",
   "execution_count": 14,
   "metadata": {},
   "outputs": [
    {
     "name": "stderr",
     "output_type": "stream",
     "text": [
      "/home/vscode/.local/lib/python3.10/site-packages/tqdm/auto.py:22: TqdmWarning: IProgress not found. Please update jupyter and ipywidgets. See https://ipywidgets.readthedocs.io/en/stable/user_install.html\n",
      "  from .autonotebook import tqdm as notebook_tqdm\n"
     ]
    },
    {
     "name": "stdout",
     "output_type": "stream",
     "text": [
      "Enter your Superwise Client ID...\n",
      "Enter your Superwise Secret...\n"
     ]
    }
   ],
   "source": [
    "from superwise import Superwise\n",
    "\n",
    "print(\"Enter your Superwise Client ID...\")\n",
    "os.environ['SUPERWISE_CLIENT_ID'] = input()\n",
    "\n",
    "print(\"Enter your Superwise Secret...\")\n",
    "os.environ['SUPERWISE_SECRET'] = getpass.getpass()\n",
    "\n",
    "sw_client = Superwise()"
   ]
  },
  {
   "cell_type": "markdown",
   "metadata": {},
   "source": [
    "Create a new project and a model:"
   ]
  },
  {
   "cell_type": "code",
   "execution_count": 20,
   "metadata": {},
   "outputs": [
    {
     "name": "stdout",
     "output_type": "stream",
     "text": [
      "Superwise Project ID: 6\n",
      "Superwise Model ID: 17\n"
     ]
    }
   ],
   "source": [
    "from superwise.models.project import Project\n",
    "from superwise.models.model import Model\n",
    "\n",
    "# Create a new project\n",
    "project = Project(name=f'Titanic Project {datetime.today().strftime(\"%Y-%m-%d\")}', description='Project for the Titanic model.')\n",
    "project = sw_client.project.create(project)\n",
    "sw_project_id = project.id\n",
    "print('Superwise Project ID:', sw_project_id)\n",
    "\n",
    "# Create a new model\n",
    "sw_model = Model(name=f'Titanic Model  {datetime.today().strftime(\"%Y-%m-%d\")}', description='The Titanic model.', project_id=sw_project_id)\n",
    "sw_model = sw_client.model.create(sw_model)\n",
    "sw_model_id = sw_model.id\n",
    "print('Superwise Model ID:', sw_model_id)"
   ]
  },
  {
   "cell_type": "markdown",
   "metadata": {},
   "source": [
    "Take a look: https://portal.superwise.ai/\n",
    "\n",
    "Next, we have to upload our dataset.\n",
    "\n",
    "> Uploading a dataset is an essential step when you create a version in the Superwise platform. It acts as a model baseline and is used by Superwise as reference data when carrying out analytics and pre-configured metrics.\n",
    "\n",
    "Prepare the training data for the upload to Superwise and create a dataset and version:"
   ]
  },
  {
   "cell_type": "code",
   "execution_count": 21,
   "metadata": {},
   "outputs": [
    {
     "name": "stdout",
     "output_type": "stream",
     "text": [
      "Superwise Dataset ID: 16\n",
      "Superwise Version ID: 26\n"
     ]
    }
   ],
   "source": [
    "from superwise.models.dataset import Dataset\n",
    "from superwise.models.version import Version\n",
    "from superwise.resources.superwise_enums import DataEntityRole, FeatureType, DatasetType\n",
    "\n",
    "def sw_prepare_train_data(df):\n",
    "    df_copy = df.copy(deep=True)\n",
    "    df_copy['prediction'] = model.predict(df.drop(['id', 'survived'], axis=1))\n",
    "    df_copy['prediction_probability'] = np.max(model.predict_proba(X), axis=1)\n",
    "    df_copy['timestamp'] = datetime.today().strftime('%Y-%m-%d %H:%M:%S.%f')\n",
    "    return df_copy\n",
    "\n",
    "sw_train_csv_path = 'data/sw_train.csv'\n",
    "\n",
    "sw_df = sw_prepare_train_data(df)\n",
    "sw_df.to_csv(sw_train_csv_path, index=False)\n",
    "\n",
    "# Create a new dataset\n",
    "sw_dataset = Dataset(name=f'Training Dataset', \n",
    "                     files=[sw_train_csv_path], \n",
    "                     project_id=sw_project_id,\n",
    "                     type=DatasetType.TRAIN.value,\n",
    "                     roles={\n",
    "                        DataEntityRole.LABEL.value: ['survived'],\n",
    "                        DataEntityRole.PREDICTION_VALUE.value: ['prediction', 'prediction_probability'],\n",
    "                        DataEntityRole.TIMESTAMP.value: 'timestamp',\n",
    "                        DataEntityRole.ID.value: 'id'\n",
    "                     },\n",
    "                     dtypes={\n",
    "                        'sex': FeatureType.CATEGORICAL.value,\n",
    "                        'prediction': FeatureType.BOOLEAN.value,\n",
    "                        'survived': FeatureType.BOOLEAN.value\n",
    "                    })\n",
    "sw_dataset = sw_client.dataset.create(sw_dataset)\n",
    "sw_dataset_id = sw_dataset.id\n",
    "print('Superwise Dataset ID:', sw_dataset_id)\n",
    "\n",
    "# Create a new version\n",
    "sw_version = Version(name=datetime.today().strftime('%Y-%m-%d-%H-%M-%S'), model_id=sw_model_id, dataset_id=sw_dataset_id)\n",
    "sw_version = sw_client.version.create(sw_version)\n",
    "sw_version_id = sw_version.id\n",
    "print('Superwise Version ID:', sw_version_id)\n",
    "\n",
    "# Upload the new version\n",
    "sw_version = sw_client.version.activate(sw_version_id)"
   ]
  },
  {
   "cell_type": "markdown",
   "metadata": {},
   "source": [
    "Take a look: https://portal.superwise.ai/\n",
    "\n",
    "Create two segments for the genders in the portal.\n",
    "\n",
    "Make a prediction and log the result in Superwise:"
   ]
  },
  {
   "cell_type": "code",
   "execution_count": 22,
   "metadata": {},
   "outputs": [
    {
     "name": "stdout",
     "output_type": "stream",
     "text": [
      "1 0.8294118046760559\n"
     ]
    },
    {
     "name": "stderr",
     "output_type": "stream",
     "text": [
      "Passing version name will be deprecated soon, pass version ID instead\n"
     ]
    }
   ],
   "source": [
    "def sw_log_prediction(input_dict: dict, prediction: int, prediction_probability: float):\n",
    "    record = {i[0]: i[1] for i in input_dict.items()}\n",
    "    record['id'] = datetime.today().strftime('%Y%m%d%H%M%S%f')\n",
    "    record['survived'] = None\n",
    "    record['prediction'] = prediction\n",
    "    record['prediction_probability'] = prediction_probability\n",
    "    record['timestamp'] = datetime.today().strftime('%Y-%m-%d %H:%M:%S.%f')\n",
    "    sw_client.transaction.log_records(\n",
    "        model_id = sw_model_id, \n",
    "        version_id = sw_version_id, \n",
    "        records = [record]\n",
    "    )['transaction_id']\n",
    "\n",
    "def predict(model, input_dict: dict):\n",
    "    input_df = pd.DataFrame(data={i[0]: [i[1]] for i in input_dict.items()})\n",
    "    return int(model.predict(input_df)[0]), float(np.max(model.predict_proba(input_df), axis=1)[0])\n",
    "\n",
    "prediction_input = {\n",
    "    'ticket_class': 1,\n",
    "    'sex': 1,\n",
    "    'age': 20,\n",
    "    'num_of_siblings_and_spouses': 0,\n",
    "    'num_of_parents_and_children': 0,\n",
    "    'fare': 5,\n",
    "    'port_of_embarkation': 1\n",
    "}\n",
    "prediction, prediction_probability = predict(model, prediction_input)\n",
    "print(prediction, prediction_probability)\n",
    "sw_log_prediction(prediction_input, prediction, prediction_probability)"
   ]
  },
  {
   "cell_type": "markdown",
   "metadata": {},
   "source": [
    "#### Interactive demo"
   ]
  },
  {
   "cell_type": "markdown",
   "metadata": {},
   "source": [
    "Send requests to the web server and submit the input and predictions directly to Superwise:\n",
    "\n",
    "**Task**: Can you figure out which parameters are most relevant based on various inputs and predictions?"
   ]
  },
  {
   "cell_type": "code",
   "execution_count": 23,
   "metadata": {},
   "outputs": [
    {
     "name": "stdout",
     "output_type": "stream",
     "text": [
      " * Serving Flask app '__main__'\n",
      " * Debug mode: off\n"
     ]
    },
    {
     "name": "stderr",
     "output_type": "stream",
     "text": [
      "\u001b[31m\u001b[1mWARNING: This is a development server. Do not use it in a production deployment. Use a production WSGI server instead.\u001b[0m\n",
      " * Running on http://127.0.0.1:5100\n",
      "\u001b[33mPress CTRL+C to quit\u001b[0m\n",
      "127.0.0.1 - - [28/Nov/2022 14:12:03] \"GET / HTTP/1.1\" 200 -\n",
      "127.0.0.1 - - [28/Nov/2022 14:12:03] \"GET /swaggerui/droid-sans.css HTTP/1.1\" 200 -\n",
      "127.0.0.1 - - [28/Nov/2022 14:12:03] \"GET /swaggerui/swagger-ui.css HTTP/1.1\" 200 -\n",
      "127.0.0.1 - - [28/Nov/2022 14:12:03] \"GET /swaggerui/swagger-ui-standalone-preset.js HTTP/1.1\" 200 -\n",
      "127.0.0.1 - - [28/Nov/2022 14:12:03] \"GET /swaggerui/swagger-ui-bundle.js HTTP/1.1\" 200 -\n",
      "127.0.0.1 - - [28/Nov/2022 14:12:06] \"GET /swaggerui/favicon-16x16.png HTTP/1.1\" 200 -\n",
      "127.0.0.1 - - [28/Nov/2022 14:12:06] \"GET /swagger.json HTTP/1.1\" 200 -\n"
     ]
    },
    {
     "name": "stdout",
     "output_type": "stream",
     "text": [
      "\n",
      "> Input: {'ticket_class': 2, 'sex': 1, 'age': 20, 'num_of_siblings_and_spouses': 0, 'num_of_parents_and_children': 0, 'fare': 8.0, 'port_of_embarkation': 1}\n",
      "> Prediction: 1\n",
      "> Probability: 0.9891325831413269\n",
      "\n"
     ]
    },
    {
     "name": "stderr",
     "output_type": "stream",
     "text": [
      "Passing version name will be deprecated soon, pass version ID instead\n",
      "127.0.0.1 - - [28/Nov/2022 14:13:49] \"POST /predict?ticket_class=2&sex=1&age=20&num_of_siblings_and_spouses=0&num_of_parents_and_children=0&fare=8&port_of_embarkation=1 HTTP/1.1\" 200 -\n"
     ]
    }
   ],
   "source": [
    "from flask import Flask\n",
    "from flask_restx import Api, Resource, reqparse\n",
    "\n",
    "flask_app = Flask(__name__)\n",
    "\n",
    "flask_api = Api(flask_app)\n",
    "\n",
    "flask_request_parser = reqparse.RequestParser()\n",
    "flask_request_parser.add_argument('ticket_class', type=int, help='Ticket class: 1 = 1st (Upper), 2 = 2nd (Middle), 3 = 3rd (Lower)', required=True)\n",
    "flask_request_parser.add_argument('sex', type=int, help='Sex: 0 = Man, 1 = Woman', required=True)\n",
    "flask_request_parser.add_argument('age', type=int, help='Age in years', required=True)\n",
    "flask_request_parser.add_argument('num_of_siblings_and_spouses', type=int, help='Number of siblings and spouses aboard the Titanic', required=True)\n",
    "flask_request_parser.add_argument('num_of_parents_and_children', type=int, help='Number of parents and children aboard the Titanic', required=True)\n",
    "flask_request_parser.add_argument('fare', type=float, help='Passenger fare', required=True)\n",
    "flask_request_parser.add_argument('port_of_embarkation', type=int, help='Port of embarkation: 0 = Southampton, 1 = Cherbourg, 2 = Queenstown', required=True)\n",
    "\n",
    "@flask_api.route('/predict')\n",
    "class PredictionResource(Resource):\n",
    "    @flask_api.doc(parser=flask_request_parser)\n",
    "    def post(self):\n",
    "        args = flask_request_parser.parse_args()\n",
    "        # Make prediction\n",
    "        prediction, prediction_probability = predict(model, args)\n",
    "        print()\n",
    "        print('> Input:', args)\n",
    "        print('> Prediction:', prediction)\n",
    "        print('> Probability:', prediction_probability)\n",
    "        print()\n",
    "        # Log production predictions\n",
    "        sw_log_prediction(prediction_input, prediction, prediction_probability)\n",
    "        return { 'prediction': prediction, 'prediction_probability': prediction_probability }\n",
    "\n",
    "flask_app.run(port=5100)\n"
   ]
  },
  {
   "cell_type": "markdown",
   "metadata": {},
   "source": [
    "Analyze the requests on the Superwise Analytics page and filter by the segments.\n",
    "\n",
    "Also, look at the available metrics and create policies."
   ]
  },
  {
   "cell_type": "markdown",
   "metadata": {},
   "source": [
    "## Evaluation"
   ]
  },
  {
   "cell_type": "markdown",
   "metadata": {},
   "source": [
    "Plot of correlations between `survived` and the rest of the columns:"
   ]
  },
  {
   "cell_type": "code",
   "execution_count": null,
   "metadata": {},
   "outputs": [
    {
     "data": {
      "text/plain": [
       "<AxesSubplot: >"
      ]
     },
     "execution_count": 103,
     "metadata": {},
     "output_type": "execute_result"
    },
    {
     "data": {
      "image/png": "[encoded data removed]",
      "text/plain": [
       "<Figure size 640x480 with 2 Axes>"
      ]
     },
     "metadata": {},
     "output_type": "display_data"
    }
   ],
   "source": [
    "corr = df.corrwith(df['survived']).drop(['survived'])\n",
    "corr_df = pd.DataFrame({ 'survived': corr }, index=df.columns[:-1])\n",
    "cmap = sns.diverging_palette(10,10, as_cmap=True)\n",
    "sns.heatmap(corr_df, annot=True, cmap=cmap, vmin=-1, vmax=1)"
   ]
  },
  {
   "cell_type": "markdown",
   "metadata": {},
   "source": [
    "## Bonus\n",
    "\n",
    "### WhyLabs"
   ]
  },
  {
   "cell_type": "code",
   "execution_count": 33,
   "metadata": {},
   "outputs": [
    {
     "name": "stdout",
     "output_type": "stream",
     "text": [
      "Enter your WhyLabs Org ID...\n",
      "Enter your WhyLabs Dataset ID...\n",
      "Enter your WhyLabs API key...\n"
     ]
    }
   ],
   "source": [
    "# Set your org-id here - should be something like \"org-xxxx\"\n",
    "print(\"Enter your WhyLabs Org ID...\") \n",
    "os.environ[\"WHYLABS_DEFAULT_ORG_ID\"] = input()\n",
    "\n",
    "# Set your datased_id (or model_id) here - should be something like \"model-xxxx\"\n",
    "print(\"Enter your WhyLabs Dataset ID...\")\n",
    "os.environ[\"WHYLABS_DEFAULT_DATASET_ID\"] = input()\n",
    "\n",
    "# Set your API key here\n",
    "print(\"Enter your WhyLabs API key...\")\n",
    "os.environ[\"WHYLABS_API_KEY\"] = getpass.getpass()"
   ]
  },
  {
   "cell_type": "markdown",
   "metadata": {},
   "source": [
    "Split data into daily batches and upload:"
   ]
  },
  {
   "cell_type": "code",
   "execution_count": 35,
   "metadata": {},
   "outputs": [
    {
     "name": "stderr",
     "output_type": "stream",
     "text": [
      "`profile` is deprecated as an argument to `write`; use `file` instead.\n"
     ]
    },
    {
     "name": "stdout",
     "output_type": "stream",
     "text": [
      "Logged profile for 2022-11-27 14:54:20.861609+00:00\n",
      "Logged profile for 2022-11-26 14:54:22.568204+00:00\n"
     ]
    },
    {
     "name": "stderr",
     "output_type": "stream",
     "text": [
      "`profile` is deprecated as an argument to `write`; use `file` instead.\n"
     ]
    },
    {
     "name": "stdout",
     "output_type": "stream",
     "text": [
      "Logged profile for 2022-11-25 14:54:23.645065+00:00\n",
      "Logged profile for 2022-11-24 14:54:24.716373+00:00\n",
      "Logged profile for 2022-11-23 14:54:25.786980+00:00\n"
     ]
    },
    {
     "name": "stderr",
     "output_type": "stream",
     "text": [
      "A profile being uploaded to WhyLabs has a dataset_timestamp of 2022-11-21 14:54:27.896987+00:00 which is older than 7 days compared to 2022-11-28 14:54:27.925508+00:00. These profiles should be processed within 24 hours.\n"
     ]
    },
    {
     "name": "stdout",
     "output_type": "stream",
     "text": [
      "Logged profile for 2022-11-22 14:54:26.885484+00:00\n",
      "Logged profile for 2022-11-21 14:54:27.896987+00:00\n"
     ]
    }
   ],
   "source": [
    "from datetime import timezone, timedelta\n",
    "import whylogs as why\n",
    "from whylogs.api.writer.whylabs import WhyLabsWriter\n",
    "\n",
    "wl_writer = WhyLabsWriter()\n",
    "\n",
    "def wl_prepare_train_data(df):\n",
    "    df_copy = df.copy(deep=True)\n",
    "    df_copy.rename(columns={ 'survived': 'output_survived' }, inplace=True)\n",
    "    df_copy['output_prediction'] = model.predict(df.drop(['id', 'survived'], axis=1))\n",
    "    df_copy['output_score'] = np.max(model.predict_proba(X), axis=1)\n",
    "    return df_copy\n",
    "\n",
    "def wl_log_data(df, timestamp):\n",
    "    # wl_results = why.log_classification_metrics(\n",
    "    #     df,\n",
    "    #     target_column = 'output_survived',\n",
    "    #     prediction_column = 'output_prediction',\n",
    "    #     score_column='output_score'\n",
    "    # )\n",
    "    # wl_profile = wl_results.profile()\n",
    "    # wl_profile.set_dataset_timestamp(timestamp)\n",
    "    # wl_results.writer(\"whylabs\").write()\n",
    "    wl_profile = why.log(df).profile()\n",
    "    wl_profile.set_dataset_timestamp(timestamp)\n",
    "    wl_writer.write(profile=wl_profile.view())\n",
    "    print('Logged profile for {}'.format(timestamp))\n",
    "\n",
    "def add_random_column_outliers(df, column, num_of_outliers):\n",
    "    df = df.copy(deep=True)\n",
    "    df = df.reset_index()\n",
    "    number_of_rows = df.shape[0]\n",
    "    for i in range(num_of_outliers):\n",
    "        random_row = np.random.randint(0, number_of_rows)\n",
    "        df.loc[random_row, column] += round(np.random.uniform(low=150.0, high=200.0), 2)\n",
    "    return df\n",
    "\n",
    "wl_df = wl_prepare_train_data(df)\n",
    "wl_df_splits = np.array_split(wl_df, 7)\n",
    "\n",
    "for day, df_split in enumerate(wl_df_splits):\n",
    "    if day == 2:\n",
    "        # df_split = add_random_column_outliers(df_split, 'age', 30)\n",
    "        df_split['age'] += 50\n",
    "    timestamp = datetime.now(timezone.utc) - timedelta(days=day + 1)\n",
    "    wl_log_data(df_split, timestamp)"
   ]
  }
 ],
 "metadata": {
  "kernelspec": {
   "display_name": "Python 3.10.8 64-bit",
   "language": "python",
   "name": "python3"
  },
  "language_info": {
   "codemirror_mode": {
    "name": "ipython",
    "version": 3
   },
   "file_extension": ".py",
   "mimetype": "text/x-python",
   "name": "python",
   "nbconvert_exporter": "python",
   "pygments_lexer": "ipython3",
   "version": "3.10.8"
  },
  "orig_nbformat": 4,
  "vscode": {
   "interpreter": {
    "hash": "949777d72b0d2535278d3dc13498b2535136f6dfe0678499012e853ee9abcab1"
   }
  }
 },
 "nbformat": 4,
 "nbformat_minor": 2
}
